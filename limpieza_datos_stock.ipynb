{
 "cells": [
  {
   "cell_type": "markdown",
   "metadata": {},
   "source": [
    "LIMPIEZA DE DATOS CON PYTHON Y PANDAS\n",
    "--------------------------------------\n",
    "\n",
    "1. El problema a resolver\n",
    "\n",
    "Podríamos resolver por ejemplo:\n",
    "\n",
    "    - Predicción de tendencias: utilizar análisis predcitivo para prever las futuras tendencias del índice y tomar decisiones informadas sobre la compra o venta de activos\n",
    "    - Gestión de riesgos: desarrollar modelos de riesgo que ayuden a identificar y mitigar posibles riesgos en las inversiones basándose en la volatilidad histórica, correlaciones con otros activos, etc\n",
    "    - Optimización de la cartera: utilizar los datos para construir una cartera diversificada que maximice el rendimiento y minimice el riesgo, teniendo en cuenta las correlaciones históricas entre diferentes activos\n",
    "    - Timing del mercado: analizar los datos para identificar patrones temporales que puedan ayudar en la toma de decisiones sobre cuándo entrar o salir del mercado"
   ]
  },
  {
   "cell_type": "code",
   "execution_count": 1,
   "metadata": {},
   "outputs": [],
   "source": [
    "# Importamos las librerías\n",
    "import pandas as pd\n",
    "import matplotlib.pyplot as plt\n",
    "import seaborn as sns"
   ]
  },
  {
   "cell_type": "code",
   "execution_count": 2,
   "metadata": {},
   "outputs": [],
   "source": [
    "# Mostramos la ruta de donde tomamos los datos\n",
    "ruta = \"data/stock/indexData.csv\"\n",
    "data = pd.read_csv(ruta)"
   ]
  },
  {
   "cell_type": "code",
   "execution_count": 3,
   "metadata": {},
   "outputs": [
    {
     "name": "stdout",
     "output_type": "stream",
     "text": [
      "(112457, 8)\n"
     ]
    },
    {
     "data": {
      "text/html": [
       "<div>\n",
       "<style scoped>\n",
       "    .dataframe tbody tr th:only-of-type {\n",
       "        vertical-align: middle;\n",
       "    }\n",
       "\n",
       "    .dataframe tbody tr th {\n",
       "        vertical-align: top;\n",
       "    }\n",
       "\n",
       "    .dataframe thead th {\n",
       "        text-align: right;\n",
       "    }\n",
       "</style>\n",
       "<table border=\"1\" class=\"dataframe\">\n",
       "  <thead>\n",
       "    <tr style=\"text-align: right;\">\n",
       "      <th></th>\n",
       "      <th>Index</th>\n",
       "      <th>Date</th>\n",
       "      <th>Open</th>\n",
       "      <th>High</th>\n",
       "      <th>Low</th>\n",
       "      <th>Close</th>\n",
       "      <th>Adj Close</th>\n",
       "      <th>Volume</th>\n",
       "    </tr>\n",
       "  </thead>\n",
       "  <tbody>\n",
       "    <tr>\n",
       "      <th>0</th>\n",
       "      <td>NYA</td>\n",
       "      <td>1965-12-31</td>\n",
       "      <td>528.690002</td>\n",
       "      <td>528.690002</td>\n",
       "      <td>528.690002</td>\n",
       "      <td>528.690002</td>\n",
       "      <td>528.690002</td>\n",
       "      <td>0.0</td>\n",
       "    </tr>\n",
       "    <tr>\n",
       "      <th>1</th>\n",
       "      <td>NYA</td>\n",
       "      <td>1966-01-03</td>\n",
       "      <td>527.210022</td>\n",
       "      <td>527.210022</td>\n",
       "      <td>527.210022</td>\n",
       "      <td>527.210022</td>\n",
       "      <td>527.210022</td>\n",
       "      <td>0.0</td>\n",
       "    </tr>\n",
       "    <tr>\n",
       "      <th>2</th>\n",
       "      <td>NYA</td>\n",
       "      <td>1966-01-04</td>\n",
       "      <td>527.840027</td>\n",
       "      <td>527.840027</td>\n",
       "      <td>527.840027</td>\n",
       "      <td>527.840027</td>\n",
       "      <td>527.840027</td>\n",
       "      <td>0.0</td>\n",
       "    </tr>\n",
       "    <tr>\n",
       "      <th>3</th>\n",
       "      <td>NYA</td>\n",
       "      <td>1966-01-05</td>\n",
       "      <td>531.119995</td>\n",
       "      <td>531.119995</td>\n",
       "      <td>531.119995</td>\n",
       "      <td>531.119995</td>\n",
       "      <td>531.119995</td>\n",
       "      <td>0.0</td>\n",
       "    </tr>\n",
       "    <tr>\n",
       "      <th>4</th>\n",
       "      <td>NYA</td>\n",
       "      <td>1966-01-06</td>\n",
       "      <td>532.070007</td>\n",
       "      <td>532.070007</td>\n",
       "      <td>532.070007</td>\n",
       "      <td>532.070007</td>\n",
       "      <td>532.070007</td>\n",
       "      <td>0.0</td>\n",
       "    </tr>\n",
       "  </tbody>\n",
       "</table>\n",
       "</div>"
      ],
      "text/plain": [
       "  Index        Date        Open        High         Low       Close  \\\n",
       "0   NYA  1965-12-31  528.690002  528.690002  528.690002  528.690002   \n",
       "1   NYA  1966-01-03  527.210022  527.210022  527.210022  527.210022   \n",
       "2   NYA  1966-01-04  527.840027  527.840027  527.840027  527.840027   \n",
       "3   NYA  1966-01-05  531.119995  531.119995  531.119995  531.119995   \n",
       "4   NYA  1966-01-06  532.070007  532.070007  532.070007  532.070007   \n",
       "\n",
       "    Adj Close  Volume  \n",
       "0  528.690002     0.0  \n",
       "1  527.210022     0.0  \n",
       "2  527.840027     0.0  \n",
       "3  531.119995     0.0  \n",
       "4  532.070007     0.0  "
      ]
     },
     "execution_count": 3,
     "metadata": {},
     "output_type": "execute_result"
    }
   ],
   "source": [
    "# Mostramos la forma del DataFrame. En este caso es una tupla que representa el número de filas y columnas\n",
    "print(data.shape)\n",
    "\n",
    "# Mostramos las primeras filas del DataFrame\n",
    "data.head()\n"
   ]
  },
  {
   "cell_type": "code",
   "execution_count": 4,
   "metadata": {},
   "outputs": [
    {
     "name": "stdout",
     "output_type": "stream",
     "text": [
      "<class 'pandas.core.frame.DataFrame'>\n",
      "RangeIndex: 112457 entries, 0 to 112456\n",
      "Data columns (total 8 columns):\n",
      " #   Column     Non-Null Count   Dtype  \n",
      "---  ------     --------------   -----  \n",
      " 0   Index      112457 non-null  object \n",
      " 1   Date       112457 non-null  object \n",
      " 2   Open       110253 non-null  float64\n",
      " 3   High       110253 non-null  float64\n",
      " 4   Low        110253 non-null  float64\n",
      " 5   Close      110253 non-null  float64\n",
      " 6   Adj Close  110253 non-null  float64\n",
      " 7   Volume     110253 non-null  float64\n",
      "dtypes: float64(6), object(2)\n",
      "memory usage: 6.9+ MB\n"
     ]
    }
   ],
   "source": [
    "# Mostramos las variables categóricas y las numéricas\n",
    "data.info()"
   ]
  },
  {
   "cell_type": "markdown",
   "metadata": {},
   "source": [
    "2. Limpieza\n",
    "\n",
    "Realizamos el proceso de limpieza teniendo en cuenta:\n",
    "\n",
    "    - Falta de datos en algunas celdas\n",
    "    - Columnas irrelevantes (no responden al problema a resolver)\n",
    "    - Registros (filas) repetidos\n",
    "    - Valores extremos (outliers) en el caso de variables numéricas\n",
    "    - Errores tipográficos en el caso de variables categóricas"
   ]
  },
  {
   "cell_type": "markdown",
   "metadata": {},
   "source": [
    "2.1 Falta de datos en algunas celdas"
   ]
  },
  {
   "cell_type": "code",
   "execution_count": 6,
   "metadata": {},
   "outputs": [
    {
     "name": "stdout",
     "output_type": "stream",
     "text": [
      "<class 'pandas.core.frame.DataFrame'>\n",
      "Index: 110253 entries, 0 to 112456\n",
      "Data columns (total 8 columns):\n",
      " #   Column     Non-Null Count   Dtype  \n",
      "---  ------     --------------   -----  \n",
      " 0   Index      110253 non-null  object \n",
      " 1   Date       110253 non-null  object \n",
      " 2   Open       110253 non-null  float64\n",
      " 3   High       110253 non-null  float64\n",
      " 4   Low        110253 non-null  float64\n",
      " 5   Close      110253 non-null  float64\n",
      " 6   Adj Close  110253 non-null  float64\n",
      " 7   Volume     110253 non-null  float64\n",
      "dtypes: float64(6), object(2)\n",
      "memory usage: 7.6+ MB\n"
     ]
    }
   ],
   "source": [
    "# Eliminamos las filas dondes e encuentren celdas con datos vacíos\n",
    "data_sin_nulos = data.dropna()\n",
    "\n",
    "data_sin_nulos.info()\n",
    "\n",
    "# Guardamos el nuevo DataFrame en un archivo CSV\n",
    "data_sin_nulos.to_csv('data/stock/data_sin_nulos.csv', index=False)"
   ]
  },
  {
   "cell_type": "markdown",
   "metadata": {},
   "source": [
    "2.2 Columnas irrelevantes\n",
    "\n",
    "    - Columna que no contiene información relevante para el problema que queremos resolver\n",
    "    - Columna categórica pero con un sólo nivel\n",
    "    - Columna numérica pero con un sólo valro\n",
    "    - Columnas con información redundante"
   ]
  },
  {
   "cell_type": "code",
   "execution_count": 9,
   "metadata": {},
   "outputs": [
    {
     "name": "stdout",
     "output_type": "stream",
     "text": [
      "Columna Index: 14 subniveles\n",
      "Columna Date: 14657 subniveles\n"
     ]
    }
   ],
   "source": [
    "# Conteo de los niveles en las diferentes columnas categóricas\n",
    "columns_cat = ['Index', 'Date']\n",
    "\n",
    "for column in columns_cat:\n",
    "    print(f'Columna {column}: {data_sin_nulos[column].nunique()} subniveles')"
   ]
  },
  {
   "cell_type": "markdown",
   "metadata": {},
   "source": [
    "Las columnas categóricas tienen más de 1 subnivel, por lo que no eliminaremos ninguna\n",
    "\n",
    "Verificamos lo que ocurre con las columnas numéricas:"
   ]
  },
  {
   "cell_type": "code",
   "execution_count": 10,
   "metadata": {},
   "outputs": [
    {
     "data": {
      "text/html": [
       "<div>\n",
       "<style scoped>\n",
       "    .dataframe tbody tr th:only-of-type {\n",
       "        vertical-align: middle;\n",
       "    }\n",
       "\n",
       "    .dataframe tbody tr th {\n",
       "        vertical-align: top;\n",
       "    }\n",
       "\n",
       "    .dataframe thead th {\n",
       "        text-align: right;\n",
       "    }\n",
       "</style>\n",
       "<table border=\"1\" class=\"dataframe\">\n",
       "  <thead>\n",
       "    <tr style=\"text-align: right;\">\n",
       "      <th></th>\n",
       "      <th>Open</th>\n",
       "      <th>High</th>\n",
       "      <th>Low</th>\n",
       "      <th>Close</th>\n",
       "      <th>Adj Close</th>\n",
       "      <th>Volume</th>\n",
       "    </tr>\n",
       "  </thead>\n",
       "  <tbody>\n",
       "    <tr>\n",
       "      <th>count</th>\n",
       "      <td>110253.000000</td>\n",
       "      <td>110253.000000</td>\n",
       "      <td>110253.000000</td>\n",
       "      <td>110253.000000</td>\n",
       "      <td>110253.000000</td>\n",
       "      <td>1.102530e+05</td>\n",
       "    </tr>\n",
       "    <tr>\n",
       "      <th>mean</th>\n",
       "      <td>7658.515222</td>\n",
       "      <td>7704.372961</td>\n",
       "      <td>7608.000422</td>\n",
       "      <td>7657.545872</td>\n",
       "      <td>7657.351729</td>\n",
       "      <td>1.273975e+09</td>\n",
       "    </tr>\n",
       "    <tr>\n",
       "      <th>std</th>\n",
       "      <td>9011.478913</td>\n",
       "      <td>9066.638548</td>\n",
       "      <td>8954.506981</td>\n",
       "      <td>9011.510444</td>\n",
       "      <td>9011.608900</td>\n",
       "      <td>4.315783e+09</td>\n",
       "    </tr>\n",
       "    <tr>\n",
       "      <th>min</th>\n",
       "      <td>54.869999</td>\n",
       "      <td>54.869999</td>\n",
       "      <td>54.869999</td>\n",
       "      <td>54.869999</td>\n",
       "      <td>54.869999</td>\n",
       "      <td>0.000000e+00</td>\n",
       "    </tr>\n",
       "    <tr>\n",
       "      <th>25%</th>\n",
       "      <td>1855.030029</td>\n",
       "      <td>1864.510010</td>\n",
       "      <td>1843.979980</td>\n",
       "      <td>1855.060059</td>\n",
       "      <td>1854.179565</td>\n",
       "      <td>0.000000e+00</td>\n",
       "    </tr>\n",
       "    <tr>\n",
       "      <th>50%</th>\n",
       "      <td>5194.089844</td>\n",
       "      <td>5226.279785</td>\n",
       "      <td>5154.049805</td>\n",
       "      <td>5194.750000</td>\n",
       "      <td>5194.750000</td>\n",
       "      <td>4.329000e+05</td>\n",
       "    </tr>\n",
       "    <tr>\n",
       "      <th>75%</th>\n",
       "      <td>10134.299810</td>\n",
       "      <td>10207.820310</td>\n",
       "      <td>10060.349610</td>\n",
       "      <td>10134.830080</td>\n",
       "      <td>10134.830080</td>\n",
       "      <td>1.734314e+08</td>\n",
       "    </tr>\n",
       "    <tr>\n",
       "      <th>max</th>\n",
       "      <td>68775.062500</td>\n",
       "      <td>69403.750000</td>\n",
       "      <td>68516.992190</td>\n",
       "      <td>68775.062500</td>\n",
       "      <td>68775.062500</td>\n",
       "      <td>9.440374e+10</td>\n",
       "    </tr>\n",
       "  </tbody>\n",
       "</table>\n",
       "</div>"
      ],
      "text/plain": [
       "                Open           High            Low          Close  \\\n",
       "count  110253.000000  110253.000000  110253.000000  110253.000000   \n",
       "mean     7658.515222    7704.372961    7608.000422    7657.545872   \n",
       "std      9011.478913    9066.638548    8954.506981    9011.510444   \n",
       "min        54.869999      54.869999      54.869999      54.869999   \n",
       "25%      1855.030029    1864.510010    1843.979980    1855.060059   \n",
       "50%      5194.089844    5226.279785    5154.049805    5194.750000   \n",
       "75%     10134.299810   10207.820310   10060.349610   10134.830080   \n",
       "max     68775.062500   69403.750000   68516.992190   68775.062500   \n",
       "\n",
       "           Adj Close        Volume  \n",
       "count  110253.000000  1.102530e+05  \n",
       "mean     7657.351729  1.273975e+09  \n",
       "std      9011.608900  4.315783e+09  \n",
       "min        54.869999  0.000000e+00  \n",
       "25%      1854.179565  0.000000e+00  \n",
       "50%      5194.750000  4.329000e+05  \n",
       "75%     10134.830080  1.734314e+08  \n",
       "max     68775.062500  9.440374e+10  "
      ]
     },
     "execution_count": 10,
     "metadata": {},
     "output_type": "execute_result"
    }
   ],
   "source": [
    "data_sin_nulos.describe()\n",
    "\n",
    "# Si la desviación estándar (std) es exáctamente igual a 0, significa que en esa columna, todos los valores son exáctamente iguales"
   ]
  },
  {
   "cell_type": "markdown",
   "metadata": {},
   "source": [
    "2.3 Filas repetidas"
   ]
  },
  {
   "cell_type": "code",
   "execution_count": 40,
   "metadata": {},
   "outputs": [
    {
     "name": "stdout",
     "output_type": "stream",
     "text": [
      "Tamaño del set antes de eliminar las filas repetidas:        Index        Date         Open         High          Low        Close  \\\n",
      "0        NYA  1965-12-31   528.690002   528.690002   528.690002   528.690002   \n",
      "1        NYA  1966-01-03   527.210022   527.210022   527.210022   527.210022   \n",
      "2        NYA  1966-01-04   527.840027   527.840027   527.840027   527.840027   \n",
      "3        NYA  1966-01-05   531.119995   531.119995   531.119995   531.119995   \n",
      "4        NYA  1966-01-06   532.070007   532.070007   532.070007   532.070007   \n",
      "...      ...         ...          ...          ...          ...          ...   \n",
      "112452  N100  2021-05-27  1241.119995  1251.910034  1241.119995  1247.069946   \n",
      "112453  N100  2021-05-28  1249.469971  1259.209961  1249.030029  1256.599976   \n",
      "112454  N100  2021-05-31  1256.079956  1258.880005  1248.140015  1248.930054   \n",
      "112455  N100  2021-06-01  1254.609985  1265.660034  1254.609985  1258.579956   \n",
      "112456  N100  2021-06-02  1258.489990  1263.709961  1258.239990  1263.619995   \n",
      "\n",
      "          Adj Close       Volume  \n",
      "0        528.690002          0.0  \n",
      "1        527.210022          0.0  \n",
      "2        527.840027          0.0  \n",
      "3        531.119995          0.0  \n",
      "4        532.070007          0.0  \n",
      "...             ...          ...  \n",
      "112452  1247.069946  379696400.0  \n",
      "112453  1256.599976  160773400.0  \n",
      "112454  1248.930054   91173700.0  \n",
      "112455  1258.579956  155179900.0  \n",
      "112456  1263.619995  148465000.0  \n",
      "\n",
      "[110253 rows x 8 columns]\n",
      "Tamaño del set después de eliminar las filas repetidas: (110253, 8)\n"
     ]
    }
   ],
   "source": [
    "print(f'Tamaño del set antes de eliminar las filas repetidas: {data_sin_nulos}')\n",
    "\n",
    "data_sin_nulos_ni_repetidos = data_sin_nulos.drop_duplicates()\n",
    "data_sin_nulos_ni_repetidos.to_csv('data/stock/data_sin_nulos_ni_repetidos.csv', index=False)\n",
    "\n",
    "print(f'Tamaño del set después de eliminar las filas repetidas: {data_sin_nulos_ni_repetidos.shape}')"
   ]
  },
  {
   "cell_type": "markdown",
   "metadata": {},
   "source": [
    "2.4 Outliers en las variables numéricas\n",
    "\n",
    "No siempre se deben eliminar los outliers porque dependiendo de la variable numérica analizada, estos pueden contener información importante\n",
    "\n",
    "Creamos gráficos tipo 'boxplot' de las columnas numéricas:"
   ]
  },
  {
   "cell_type": "code",
   "execution_count": 22,
   "metadata": {},
   "outputs": [
    {
     "data": {
      "image/png": "[encoded data removed]",
      "text/plain": [
       "<Figure size 800x3000 with 6 Axes>"
      ]
     },
     "metadata": {},
     "output_type": "display_data"
    }
   ],
   "source": [
    "# Generar gráficas individuales, ya que las variables numéricas están en rangos diferentes\n",
    "columns_num = ['Open', 'High', 'Low', 'Close', 'Adj Close', 'Volume']\n",
    "\n",
    "fig, ax = plt.subplots(nrows=len(columns_num), ncols=1, figsize=(8, 5 * len(columns_num)))\n",
    "fig.subplots_adjust(hspace=.5)\n",
    "\n",
    "for i, column in enumerate(columns_num):\n",
    "    sns.boxplot(x=data_sin_nulos_ni_repetidos[column], ax=ax[i])\n",
    "    ax[i].set_title(column)"
   ]
  },
  {
   "cell_type": "markdown",
   "metadata": {},
   "source": [
    "Observaciones:\n",
    "\n",
    "    - Vemos que hay valores de volumen en 0, por lo que procedemos a borrar esos registros"
   ]
  },
  {
   "cell_type": "code",
   "execution_count": 41,
   "metadata": {},
   "outputs": [
    {
     "name": "stdout",
     "output_type": "stream",
     "text": [
      "Tamaño del set antes de eliminar registros de volumen: (110253, 8)\n",
      "Tamaño del set después de eliminar registros de volumen: (68160, 8)\n"
     ]
    }
   ],
   "source": [
    "# Eliminar filas con 'volume'==0\n",
    "print(f'Tamaño del set antes de eliminar registros de volumen: {data_sin_nulos_ni_repetidos.shape}')\n",
    "\n",
    "data_sin_nulos_ni_repetidos = data_sin_nulos_ni_repetidos[data_sin_nulos_ni_repetidos['Volume'] != 0.0]\n",
    "\n",
    "print(f'Tamaño del set después de eliminar registros de volumen: {data_sin_nulos_ni_repetidos.shape}')"
   ]
  },
  {
   "cell_type": "markdown",
   "metadata": {},
   "source": [
    "2.5 Errores tipográficos en variables categóricas\n",
    "\n",
    "En una variable categórica pueden aparecer subniveles como 'unknown' y 'UNK' que para nosotros son equivalentes pero que para nuestro programa parecerían diferentes\n",
    "\n",
    "Debemos unificar estos subniveles"
   ]
  },
  {
   "cell_type": "code",
   "execution_count": null,
   "metadata": {},
   "outputs": [],
   "source": [
    "# Graficamos los subniveles de cada variable categórica\n",
    "columns_cat = ['Index', 'Date']\n",
    "\n",
    "fig, ax = plt.subplots(nrows=len(columns_cat), ncols=1, figsize=(10, 30))\n",
    "fig.subplots_adjust(hspace=1)\n",
    "\n",
    "for i, column in enumerate(columns_cat):\n",
    "    sns.countplot(x=column, data=data_sin_nulos_ni_repetidos, ax=ax[i])\n",
    "    ax[i].set_title(column)\n",
    "    ax[i].set_xticklabels(ax[i].get_xticklabels(), rotation=30)"
   ]
  },
  {
   "cell_type": "code",
   "execution_count": 45,
   "metadata": {},
   "outputs": [
    {
     "data": {
      "text/plain": [
       "(68160, 8)"
      ]
     },
     "execution_count": 45,
     "metadata": {},
     "output_type": "execute_result"
    }
   ],
   "source": [
    "data_sin_nulos_ni_repetidos.shape"
   ]
  },
  {
   "cell_type": "markdown",
   "metadata": {},
   "source": [
    "Ya hemos realizado la limpieza de nuestro set de datos\n",
    "\n",
    "Generalmente esta limpieza de datos implica el manejo de datos faltantes o repetidos, así como el manejo de valores extremos\n",
    "\n",
    "El DataFrame resultante tiene 68.160 filas y 8 columnas\n",
    "\n",
    "El DataSet ya está listo para el Análisis Exploratorio"
   ]
  },
  {
   "cell_type": "code",
   "execution_count": 46,
   "metadata": {},
   "outputs": [],
   "source": [
    "ruta = \"data/stock/data_procesado.csv\"\n",
    "data.to_csv(ruta)"
   ]
  }
 ],
 "metadata": {
  "kernelspec": {
   "display_name": "Python 3",
   "language": "python",
   "name": "python3"
  },
  "language_info": {
   "codemirror_mode": {
    "name": "ipython",
    "version": 3
   },
   "file_extension": ".py",
   "mimetype": "text/x-python",
   "name": "python",
   "nbconvert_exporter": "python",
   "pygments_lexer": "ipython3",
   "version": "3.11.2"
  }
 },
 "nbformat": 4,
 "nbformat_minor": 2
}
